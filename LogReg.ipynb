{
 "cells": [
  {
   "cell_type": "markdown",
   "id": "a11621b6",
   "metadata": {},
   "source": [
    "<h1> Mostrar las diferentes librerias para aplicar algoritmos de aprendizaje automático </h1>"
   ]
  },
  {
   "cell_type": "code",
   "execution_count": 2,
   "id": "aecd9351",
   "metadata": {},
   "outputs": [],
   "source": [
    "import numpy as np \n",
    "import pandas as pd\n",
    "import matplotlib.pyplot as plt"
   ]
  },
  {
   "cell_type": "code",
   "execution_count": 3,
   "id": "f1b29a2d",
   "metadata": {},
   "outputs": [
    {
     "name": "stdout",
     "output_type": "stream",
     "text": [
      "Matriz \n",
      " [[-0.27220409 -0.28504464 -1.94920731  0.52105873 -0.40718647 -0.56664068\n",
      "  -0.40933005  0.58068069 -1.69886074  1.95847959]\n",
      " [-1.12162793  0.84712745 -0.62428502 -2.58752596  0.44783919 -0.97422996\n",
      "   0.75369376 -1.08876183  2.48971894 -1.69911865]\n",
      " [-0.03392953 -1.72123095  0.87704589  0.5866553   0.78649815 -1.69957936\n",
      "   0.51914104 -0.93923022  0.51504855  1.62517271]]\n",
      "Vector\n",
      " [0 1 0]\n"
     ]
    }
   ],
   "source": [
    "# Generar datos artificiales.\n",
    "from sklearn.datasets import make_classification\n",
    "\n",
    "features, target = make_classification(n_samples = 1000,\n",
    "    n_features = 10,\n",
    "    n_informative = 3,\n",
    "    n_redundant = 0,\n",
    "    n_classes = 2,\n",
    "    weights = [.75, .25],\n",
    "    random_state = 1)\n",
    "\n",
    "print('Matriz \\n', features[:3])\n",
    "print('Vector\\n', target[:3])"
   ]
  },
  {
   "cell_type": "code",
   "execution_count": 4,
   "id": "f1df944a",
   "metadata": {},
   "outputs": [
    {
     "name": "stdout",
     "output_type": "stream",
     "text": [
      "Porcentaje de acierto entrenamiento: 0.91\n",
      "Porcentaje de acierto pruebas: 0.86\n"
     ]
    }
   ],
   "source": [
    "#Separar los datos de entrenamiento y pruebas.\n",
    "from sklearn.model_selection import train_test_split\n",
    "X_train, X_test, y_train, y_test = train_test_split(features, target, random_state=0)\n",
    "\n",
    "#Escoejer el méodelo\n",
    "from sklearn.linear_model import LogisticRegression\n",
    "modelo = LogisticRegression().fit(X_train, y_train)\n",
    "print(\"Porcentaje de acierto entrenamiento: {:.2f}\".format(modelo.score(X_train, y_train)))\n",
    "print(\"Porcentaje de acierto pruebas: {:.2f}\".format(modelo.score(X_test, y_test)))"
   ]
  },
  {
   "cell_type": "code",
   "execution_count": 5,
   "id": "81876313",
   "metadata": {},
   "outputs": [
    {
     "name": "stdout",
     "output_type": "stream",
     "text": [
      "Porcentaje de acierto entrenamiento: 0.95\n",
      "Porcentaje de acierto pruebas: 0.95\n"
     ]
    },
    {
     "name": "stderr",
     "output_type": "stream",
     "text": [
      "C:\\Users\\EQUIPO\\AppData\\Local\\Programs\\Python\\Python310\\lib\\site-packages\\sklearn\\linear_model\\_logistic.py:814: ConvergenceWarning: lbfgs failed to converge (status=1):\n",
      "STOP: TOTAL NO. of ITERATIONS REACHED LIMIT.\n",
      "\n",
      "Increase the number of iterations (max_iter) or scale the data as shown in:\n",
      "    https://scikit-learn.org/stable/modules/preprocessing.html\n",
      "Please also refer to the documentation for alternative solver options:\n",
      "    https://scikit-learn.org/stable/modules/linear_model.html#logistic-regression\n",
      "  n_iter_i = _check_optimize_result(\n"
     ]
    }
   ],
   "source": [
    "#El módelo aplicado a una base mas grande\n",
    "from sklearn.datasets import load_breast_cancer\n",
    "cancer = load_breast_cancer()\n",
    "X_train, X_test, y_train, y_test = train_test_split(\n",
    "cancer.data, cancer.target, stratify=cancer.target, random_state=42)\n",
    "modelo = LogisticRegression().fit(X_train, y_train)\n",
    "print(\"Porcentaje de acierto entrenamiento: {:.2f}\".format(modelo.score(X_train, y_train)))\n",
    "print(\"Porcentaje de acierto pruebas: {:.2f}\".format(modelo.score(X_test, y_test)))"
   ]
  },
  {
   "cell_type": "code",
   "execution_count": 7,
   "id": "fac38b40",
   "metadata": {},
   "outputs": [
    {
     "name": "stdout",
     "output_type": "stream",
     "text": [
      "Porcentaje de acierto entrenamiento: 0.95\n",
      "Porcentaje de acierto pruebas: 0.96\n"
     ]
    },
    {
     "name": "stderr",
     "output_type": "stream",
     "text": [
      "C:\\Users\\EQUIPO\\AppData\\Local\\Programs\\Python\\Python310\\lib\\site-packages\\sklearn\\linear_model\\_logistic.py:814: ConvergenceWarning: lbfgs failed to converge (status=1):\n",
      "STOP: TOTAL NO. of ITERATIONS REACHED LIMIT.\n",
      "\n",
      "Increase the number of iterations (max_iter) or scale the data as shown in:\n",
      "    https://scikit-learn.org/stable/modules/preprocessing.html\n",
      "Please also refer to the documentation for alternative solver options:\n",
      "    https://scikit-learn.org/stable/modules/linear_model.html#logistic-regression\n",
      "  n_iter_i = _check_optimize_result(\n"
     ]
    }
   ],
   "source": [
    "modelo = LogisticRegression(C=100).fit(X_train, y_train)\n",
    "print(\"Porcentaje de acierto entrenamiento: {:.2f}\".format(modelo.score(X_train, y_train)))\n",
    "print(\"Porcentaje de acierto pruebas: {:.2f}\".format(modelo.score(X_test, y_test)))"
   ]
  }
 ],
 "metadata": {
  "kernelspec": {
   "display_name": "Python 3 (ipykernel)",
   "language": "python",
   "name": "python3"
  },
  "language_info": {
   "codemirror_mode": {
    "name": "ipython",
    "version": 3
   },
   "file_extension": ".py",
   "mimetype": "text/x-python",
   "name": "python",
   "nbconvert_exporter": "python",
   "pygments_lexer": "ipython3",
   "version": "3.9.7"
  }
 },
 "nbformat": 4,
 "nbformat_minor": 5
}
