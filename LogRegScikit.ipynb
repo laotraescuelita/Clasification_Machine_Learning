{
 "cells": [
  {
   "cell_type": "markdown",
   "id": "f8d5adb8",
   "metadata": {},
   "source": [
    "<h1> Datos para probar las técnicas de analísis. </h1>\n",
    "\n",
    "<h2>Los pasos que intentare seguir para tener una metodología son: </h2>\n",
    "<br>\n",
    "<li>Paso cero: Extraccion de los datos, limpieza, reducción y eliminación en los casos que apliquen.</li>\n",
    "<li>Paso uno: Estandarizar, normalizar y/o reducir los datos.</li>\n",
    "<li>Paso dos: Codificar las variables categoricas.</li>\n",
    "<li>Paso tres: Escojer el médelo de machine learning que nos ayude a resolver el problema</li>"
   ]
  },
  {
   "cell_type": "code",
   "execution_count": 1,
   "id": "94703ad3",
   "metadata": {},
   "outputs": [],
   "source": [
    "#Import las primeras librerias que podriamos utilizar\n",
    "import pandas as pd \n",
    "import numpy as np\n",
    "import seaborn as sns\n",
    "import matplotlib.pyplot as plt\n",
    "%matplotlib inline"
   ]
  },
  {
   "cell_type": "code",
   "execution_count": 2,
   "id": "9642a94e",
   "metadata": {},
   "outputs": [
    {
     "name": "stdout",
     "output_type": "stream",
     "text": [
      "\n",
      "Tamaño de la matriz\n",
      " (2197291, 15)\n"
     ]
    }
   ],
   "source": [
    "df = pd.read_csv(\"PeopleTrain.csv\")\n",
    "print(\"\\nTamaño de la matriz\\n\", df.shape)"
   ]
  },
  {
   "cell_type": "code",
   "execution_count": 3,
   "id": "b9c4953d",
   "metadata": {},
   "outputs": [
    {
     "name": "stdout",
     "output_type": "stream",
     "text": [
      "<class 'pandas.core.frame.DataFrame'>\n",
      "RangeIndex: 2197291 entries, 0 to 2197290\n",
      "Data columns (total 15 columns):\n",
      " #   Column             Dtype \n",
      "---  ------             ----- \n",
      " 0   people_id          object\n",
      " 1   activity_id        object\n",
      " 2   date               object\n",
      " 3   activity_category  object\n",
      " 4   char_1             object\n",
      " 5   char_2             object\n",
      " 6   char_3             object\n",
      " 7   char_4             object\n",
      " 8   char_5             object\n",
      " 9   char_6             object\n",
      " 10  char_7             object\n",
      " 11  char_8             object\n",
      " 12  char_9             object\n",
      " 13  char_10            object\n",
      " 14  outcome            int64 \n",
      "dtypes: int64(1), object(14)\n",
      "memory usage: 251.5+ MB\n",
      "\n",
      "Tipos de variables: \n",
      "  None\n"
     ]
    }
   ],
   "source": [
    "#Revisar los tipos de variables y determinar si son correctas o las modifcamos.\n",
    "print(\"\\nTipos de variables: \\n \", df.info() )"
   ]
  },
  {
   "cell_type": "code",
   "execution_count": 4,
   "id": "bf24c853",
   "metadata": {},
   "outputs": [
    {
     "name": "stdout",
     "output_type": "stream",
     "text": [
      "\n",
      "Cantidad de datos faltantes en porcentaje \n",
      " people_id             0.000000\n",
      "activity_id           0.000000\n",
      "date                  0.000000\n",
      "activity_category     0.000000\n",
      "char_1               92.826849\n",
      "char_2               92.826849\n",
      "char_3               92.826849\n",
      "char_4               92.826849\n",
      "char_5               92.826849\n",
      "char_6               92.826849\n",
      "char_7               92.826849\n",
      "char_8               92.826849\n",
      "char_9               92.826849\n",
      "char_10               7.173151\n",
      "outcome               0.000000\n",
      "dtype: float64\n"
     ]
    }
   ],
   "source": [
    "print(\"\\nCantidad de datos faltantes en porcentaje \\n\", df.isnull().sum()/df.shape[0]*100)"
   ]
  },
  {
   "cell_type": "code",
   "execution_count": 5,
   "id": "7a706c2d",
   "metadata": {},
   "outputs": [
    {
     "name": "stdout",
     "output_type": "stream",
     "text": [
      "\n",
      "Las columnas que se remueven:\n",
      " ['char_1', 'char_2', 'char_3', 'char_4', 'char_5', 'char_6', 'char_7', 'char_8', 'char_9']\n",
      "\n",
      "Forma de la matriz:\n",
      " (2197291, 6)\n"
     ]
    },
    {
     "data": {
      "text/html": [
       "<div>\n",
       "<style scoped>\n",
       "    .dataframe tbody tr th:only-of-type {\n",
       "        vertical-align: middle;\n",
       "    }\n",
       "\n",
       "    .dataframe tbody tr th {\n",
       "        vertical-align: top;\n",
       "    }\n",
       "\n",
       "    .dataframe thead th {\n",
       "        text-align: right;\n",
       "    }\n",
       "</style>\n",
       "<table border=\"1\" class=\"dataframe\">\n",
       "  <thead>\n",
       "    <tr style=\"text-align: right;\">\n",
       "      <th></th>\n",
       "      <th>people_id</th>\n",
       "      <th>activity_id</th>\n",
       "      <th>activity_date</th>\n",
       "      <th>activity_category</th>\n",
       "      <th>activity_type</th>\n",
       "      <th>outcome</th>\n",
       "    </tr>\n",
       "  </thead>\n",
       "  <tbody>\n",
       "    <tr>\n",
       "      <th>0</th>\n",
       "      <td>ppl_100</td>\n",
       "      <td>act2_1734928</td>\n",
       "      <td>2023-08-26</td>\n",
       "      <td>type 4</td>\n",
       "      <td>type 76</td>\n",
       "      <td>0</td>\n",
       "    </tr>\n",
       "    <tr>\n",
       "      <th>1</th>\n",
       "      <td>ppl_100</td>\n",
       "      <td>act2_2434093</td>\n",
       "      <td>2022-09-27</td>\n",
       "      <td>type 2</td>\n",
       "      <td>type 1</td>\n",
       "      <td>0</td>\n",
       "    </tr>\n",
       "  </tbody>\n",
       "</table>\n",
       "</div>"
      ],
      "text/plain": [
       "  people_id   activity_id activity_date activity_category activity_type  \\\n",
       "0   ppl_100  act2_1734928    2023-08-26            type 4       type 76   \n",
       "1   ppl_100  act2_2434093    2022-09-27            type 2        type 1   \n",
       "\n",
       "   outcome  \n",
       "0        0  \n",
       "1        0  "
      ]
     },
     "execution_count": 5,
     "metadata": {},
     "output_type": "execute_result"
    }
   ],
   "source": [
    "#Hay que hacer una lista con las columnas que se van a remover.\n",
    "columnas_a_remover = [\"char_\"+str(x) for x in np.arange(1,10)]\n",
    "print(\"\\nLas columnas que se remueven:\\n\",columnas_a_remover)\n",
    "#Eliminar las columnas\n",
    "df = df.drop(columnas_a_remover, axis=1)\n",
    "#Se renobran las columnas para evitar un conflicto al unirse con el otro dataframe.\n",
    "df = df.rename(columns={\"date\":\"activity_date\",\"char_10\":\"activity_type\"})\n",
    "#Aquí interpolamos los datos que faltan en la columan char_10 con la moda.\n",
    "df[\"activity_type\"] = df[\"activity_type\"].fillna(df[\"activity_type\"].mode()[0])\n",
    "#Miremos la forma de la matriz con los cambios\n",
    "print(\"\\nForma de la matriz:\\n\",df.shape)\n",
    "df.head(2)"
   ]
  },
  {
   "cell_type": "code",
   "execution_count": 6,
   "id": "793bcbf4",
   "metadata": {},
   "outputs": [
    {
     "name": "stdout",
     "output_type": "stream",
     "text": [
      "\n",
      "Tamaño de la matriz\n",
      " (189118, 41)\n"
     ]
    }
   ],
   "source": [
    "df2 = pd.read_csv(\"People.csv\")\n",
    "print(\"\\nTamaño de la matriz\\n\", df2.shape)"
   ]
  },
  {
   "cell_type": "code",
   "execution_count": 7,
   "id": "aaced534",
   "metadata": {},
   "outputs": [
    {
     "name": "stdout",
     "output_type": "stream",
     "text": [
      "<class 'pandas.core.frame.DataFrame'>\n",
      "RangeIndex: 189118 entries, 0 to 189117\n",
      "Data columns (total 41 columns):\n",
      " #   Column     Non-Null Count   Dtype \n",
      "---  ------     --------------   ----- \n",
      " 0   people_id  189118 non-null  object\n",
      " 1   char_1     189118 non-null  object\n",
      " 2   group_1    189118 non-null  object\n",
      " 3   char_2     189118 non-null  object\n",
      " 4   date       189118 non-null  object\n",
      " 5   char_3     189118 non-null  object\n",
      " 6   char_4     189118 non-null  object\n",
      " 7   char_5     189118 non-null  object\n",
      " 8   char_6     189118 non-null  object\n",
      " 9   char_7     189118 non-null  object\n",
      " 10  char_8     189118 non-null  object\n",
      " 11  char_9     189118 non-null  object\n",
      " 12  char_10    189118 non-null  bool  \n",
      " 13  char_11    189118 non-null  bool  \n",
      " 14  char_12    189118 non-null  bool  \n",
      " 15  char_13    189118 non-null  bool  \n",
      " 16  char_14    189118 non-null  bool  \n",
      " 17  char_15    189118 non-null  bool  \n",
      " 18  char_16    189118 non-null  bool  \n",
      " 19  char_17    189118 non-null  bool  \n",
      " 20  char_18    189118 non-null  bool  \n",
      " 21  char_19    189118 non-null  bool  \n",
      " 22  char_20    189118 non-null  bool  \n",
      " 23  char_21    189118 non-null  bool  \n",
      " 24  char_22    189118 non-null  bool  \n",
      " 25  char_23    189118 non-null  bool  \n",
      " 26  char_24    189118 non-null  bool  \n",
      " 27  char_25    189118 non-null  bool  \n",
      " 28  char_26    189118 non-null  bool  \n",
      " 29  char_27    189118 non-null  bool  \n",
      " 30  char_28    189118 non-null  bool  \n",
      " 31  char_29    189118 non-null  bool  \n",
      " 32  char_30    189118 non-null  bool  \n",
      " 33  char_31    189118 non-null  bool  \n",
      " 34  char_32    189118 non-null  bool  \n",
      " 35  char_33    189118 non-null  bool  \n",
      " 36  char_34    189118 non-null  bool  \n",
      " 37  char_35    189118 non-null  bool  \n",
      " 38  char_36    189118 non-null  bool  \n",
      " 39  char_37    189118 non-null  bool  \n",
      " 40  char_38    189118 non-null  int64 \n",
      "dtypes: bool(28), int64(1), object(12)\n",
      "memory usage: 23.8+ MB\n",
      "\n",
      "Tipos de variables: \n",
      "  None\n"
     ]
    }
   ],
   "source": [
    "#Revisar los tipos de variables y determinar si son correctas o las modifcamos.\n",
    "print(\"\\nTipos de variables: \\n \", df2.info() )"
   ]
  },
  {
   "cell_type": "code",
   "execution_count": 8,
   "id": "560c17b1",
   "metadata": {},
   "outputs": [
    {
     "name": "stdout",
     "output_type": "stream",
     "text": [
      "\n",
      "Cantidad de datos faltantes en porcentaje \n",
      " people_id    0.0\n",
      "char_1       0.0\n",
      "group_1      0.0\n",
      "char_2       0.0\n",
      "date         0.0\n",
      "char_3       0.0\n",
      "char_4       0.0\n",
      "char_5       0.0\n",
      "char_6       0.0\n",
      "char_7       0.0\n",
      "char_8       0.0\n",
      "char_9       0.0\n",
      "char_10      0.0\n",
      "char_11      0.0\n",
      "char_12      0.0\n",
      "char_13      0.0\n",
      "char_14      0.0\n",
      "char_15      0.0\n",
      "char_16      0.0\n",
      "char_17      0.0\n",
      "char_18      0.0\n",
      "char_19      0.0\n",
      "char_20      0.0\n",
      "char_21      0.0\n",
      "char_22      0.0\n",
      "char_23      0.0\n",
      "char_24      0.0\n",
      "char_25      0.0\n",
      "char_26      0.0\n",
      "char_27      0.0\n",
      "char_28      0.0\n",
      "char_29      0.0\n",
      "char_30      0.0\n",
      "char_31      0.0\n",
      "char_32      0.0\n",
      "char_33      0.0\n",
      "char_34      0.0\n",
      "char_35      0.0\n",
      "char_36      0.0\n",
      "char_37      0.0\n",
      "char_38      0.0\n",
      "dtype: float64\n"
     ]
    }
   ],
   "source": [
    "print(\"\\nCantidad de datos faltantes en porcentaje \\n\", df2.isnull().sum()/df2.shape[0]*100)"
   ]
  },
  {
   "cell_type": "code",
   "execution_count": 9,
   "id": "d08ffac7",
   "metadata": {},
   "outputs": [
    {
     "name": "stdout",
     "output_type": "stream",
     "text": [
      "\n",
      "Forma de la matriz:\n",
      " (2197291, 46)\n"
     ]
    }
   ],
   "source": [
    "#Vamos a fucionar ambas matrices.\n",
    "df = df.merge(df2,on=[\"people_id\"],how=\"inner\")\n",
    "print(\"\\nForma de la matriz:\\n\", df.shape)"
   ]
  },
  {
   "cell_type": "code",
   "execution_count": 10,
   "id": "eaa11bf1",
   "metadata": {},
   "outputs": [
    {
     "name": "stdout",
     "output_type": "stream",
     "text": [
      "\n",
      "Los valores a predecir son :\n",
      " [0 1]\n",
      "\n",
      "Como estan distribuidas las variables a predecir: \n",
      " 0    55.60456\n",
      "1    44.39544\n",
      "Name: outcome, dtype: float64\n"
     ]
    }
   ],
   "source": [
    "print(\"\\nLos valores a predecir son :\\n\",df[\"outcome\"].unique())\n",
    "print(\"\\nComo estan distribuidas las variables a predecir: \\n\", df[\"outcome\"].value_counts()/df.shape[0] *100 )"
   ]
  },
  {
   "cell_type": "code",
   "execution_count": 11,
   "id": "ef9722f3",
   "metadata": {},
   "outputs": [
    {
     "name": "stdout",
     "output_type": "stream",
     "text": [
      "\n",
      "Distinct DataTypes:\n",
      " [dtype('O') dtype('int64') dtype('bool')]\n"
     ]
    }
   ],
   "source": [
    "#Revisando los tipos de datos con los que trabajaremos\n",
    "print(\"\\nDistinct DataTypes:\\n\", df.dtypes.unique() ) "
   ]
  },
  {
   "cell_type": "code",
   "execution_count": 12,
   "id": "240d96a0",
   "metadata": {},
   "outputs": [
    {
     "name": "stdout",
     "output_type": "stream",
     "text": [
      "\n",
      "Nombre de las columnas que se categorizan como 1/0:\n",
      "          char_10  char_11  char_12  char_13  char_14  char_15  char_16  \\\n",
      "0           True    False    False     True     True    False     True   \n",
      "1           True    False    False     True     True    False     True   \n",
      "2           True    False    False     True     True    False     True   \n",
      "3           True    False    False     True     True    False     True   \n",
      "4           True    False    False     True     True    False     True   \n",
      "...          ...      ...      ...      ...      ...      ...      ...   \n",
      "2197286     True     True     True     True     True     True     True   \n",
      "2197287     True     True     True     True     True     True     True   \n",
      "2197288     True     True     True     True     True     True     True   \n",
      "2197289     True     True     True     True     True     True     True   \n",
      "2197290     True     True     True     True     True     True     True   \n",
      "\n",
      "         char_17  char_18  char_19  ...  char_28  char_29  char_30  char_31  \\\n",
      "0          False    False    False  ...     True    False     True     True   \n",
      "1          False    False    False  ...     True    False     True     True   \n",
      "2          False    False    False  ...     True    False     True     True   \n",
      "3          False    False    False  ...     True    False     True     True   \n",
      "4          False    False    False  ...     True    False     True     True   \n",
      "...          ...      ...      ...  ...      ...      ...      ...      ...   \n",
      "2197286     True     True     True  ...     True     True     True     True   \n",
      "2197287     True     True     True  ...     True     True     True     True   \n",
      "2197288     True     True     True  ...     True     True     True     True   \n",
      "2197289     True     True     True  ...     True     True     True     True   \n",
      "2197290     True     True     True  ...     True     True     True     True   \n",
      "\n",
      "         char_32  char_33  char_34  char_35  char_36  char_37  \n",
      "0          False    False     True     True     True    False  \n",
      "1          False    False     True     True     True    False  \n",
      "2          False    False     True     True     True    False  \n",
      "3          False    False     True     True     True    False  \n",
      "4          False    False     True     True     True    False  \n",
      "...          ...      ...      ...      ...      ...      ...  \n",
      "2197286     True    False     True     True     True     True  \n",
      "2197287     True    False     True     True     True     True  \n",
      "2197288     True    False     True     True     True     True  \n",
      "2197289     True    False     True     True     True     True  \n",
      "2197290     True    False     True     True     True     True  \n",
      "\n",
      "[2197291 rows x 28 columns]\n"
     ]
    }
   ],
   "source": [
    "print(\"\\nNombre de las columnas que se categorizan como 1/0:\\n\", df.select_dtypes(\"bool\"))\n",
    "#Convertir los valores\n",
    "for col in df.select_dtypes(\"bool\"):\n",
    "    df[col] = np.where(df[col] == True,1,0)"
   ]
  },
  {
   "cell_type": "code",
   "execution_count": 13,
   "id": "50130e95",
   "metadata": {},
   "outputs": [
    {
     "name": "stdout",
     "output_type": "stream",
     "text": [
      "people_id column has : 151295 distinct values\n",
      "activity_id column has : 2197291 distinct values\n",
      "activity_date column has : 411 distinct values\n",
      "activity_category column has : 7 distinct values\n",
      "activity_type column has : 6515 distinct values\n",
      "char_1 column has : 2 distinct values\n",
      "group_1 column has : 29899 distinct values\n",
      "char_2 column has : 3 distinct values\n",
      "date column has : 1196 distinct values\n",
      "char_3 column has : 43 distinct values\n",
      "char_4 column has : 25 distinct values\n",
      "char_5 column has : 9 distinct values\n",
      "char_6 column has : 7 distinct values\n",
      "char_7 column has : 25 distinct values\n",
      "char_8 column has : 8 distinct values\n",
      "char_9 column has : 9 distinct values\n"
     ]
    }
   ],
   "source": [
    "#Revisemos los distintos valores que se deberan recodificar\n",
    "for col in df.select_dtypes(\"object\"):\n",
    "    print(col + \" column has :\", str( len( df[col].unique())) + \" distinct values\" )"
   ]
  },
  {
   "cell_type": "code",
   "execution_count": 14,
   "id": "6fbb9206",
   "metadata": {},
   "outputs": [
    {
     "name": "stderr",
     "output_type": "stream",
     "text": [
      "C:\\Users\\WINDOW~1\\AppData\\Local\\Temp/ipykernel_924/4134797014.py:6: FutureWarning: Series.dt.weekofyear and Series.dt.week have been deprecated.  Please use Series.dt.isocalendar().week instead.\n",
      "  df[\"Week\"] = df[\"date\"].dt.week\n"
     ]
    }
   ],
   "source": [
    "#Convertir la variable date de object a datetime. Separar esas fechas por categoria mes, dia, etc..\n",
    "df[\"date\"] = pd.to_datetime(df[\"date\"])\n",
    "df[\"Year\"] = df[\"date\"].dt.year\n",
    "df[\"Month\"] = df[\"date\"].dt.month\n",
    "df[\"Quarter\"] = df[\"date\"].dt.quarter\n",
    "df[\"Week\"] = df[\"date\"].dt.week\n",
    "df[\"WeekDay\"] = df[\"date\"].dt.weekday\n",
    "df[\"Day\"] = df[\"date\"].dt.day\n",
    "\n",
    "#Vamos a quitar la columna de fecha por que no nos ayud al momento de entrenar la red.\n",
    "del(df[\"date\"])\n",
    "del(df[\"activity_date\"])"
   ]
  },
  {
   "cell_type": "code",
   "execution_count": 15,
   "id": "5089e075",
   "metadata": {},
   "outputs": [
    {
     "name": "stdout",
     "output_type": "stream",
     "text": [
      "  people_id activity_type   activity_id      group_1\n",
      "0   ppl_100       type 76  act2_1734928  group 17304\n",
      "1   ppl_100        type 1  act2_2434093  group 17304\n",
      "2   ppl_100        type 1  act2_3404049  group 17304\n",
      "3   ppl_100        type 1  act2_3651215  group 17304\n",
      "4   ppl_100        type 1  act2_4109017  group 17304\n",
      "   people_id  activity_type  activity_id  group_1\n",
      "0      100.0             76    1734928.0    17304\n",
      "1      100.0              1    2434093.0    17304\n",
      "2      100.0              1    3404049.0    17304\n",
      "3      100.0              1    3651215.0    17304\n",
      "4      100.0              1    4109017.0    17304\n"
     ]
    }
   ],
   "source": [
    "#Estas columnas se tienen que depurar para quedarnos con los datos numericos.\n",
    "print(df[[\"people_id\",\"activity_type\",\"activity_id\", \"group_1\"]].head())\n",
    "\n",
    "df.people_id = df.people_id.apply(lambda x:x.split(\"_\")[1])\n",
    "df.people_id = pd.to_numeric(df.people_id)\n",
    "\n",
    "df.activity_id = df.activity_id.apply(lambda x:x.split(\"_\")[1])\n",
    "df.activity_id = pd.to_numeric(df.activity_id)\n",
    "\n",
    "df.group_1 = df.group_1.apply(lambda x:x.split(\" \")[1])\n",
    "df.group_1 = pd.to_numeric(df.group_1)\n",
    "\n",
    "df.activity_type = df.activity_type.apply(lambda x:x.split(\" \")[1])\n",
    "df.activity_type = pd.to_numeric(df.activity_type)\n",
    "\n",
    "print(df[[\"people_id\",\"activity_type\",\"activity_id\", \"group_1\"]].head())"
   ]
  },
  {
   "cell_type": "code",
   "execution_count": 16,
   "id": "697e9186",
   "metadata": {},
   "outputs": [
    {
     "name": "stdout",
     "output_type": "stream",
     "text": [
      "\n",
      "\n",
      "Columns Name: activity_category\n",
      "************\n",
      "type 1 : 0\n",
      "type 2 : 1\n",
      "type 3 : 2\n",
      "type 4 : 3\n",
      "type 5 : 4\n",
      "type 6 : 5\n",
      "type 7 : 6\n",
      "\n",
      "\n",
      "Columns Name: char_1\n",
      "************\n",
      "type 1 : 0\n",
      "type 2 : 1\n",
      "\n",
      "\n",
      "Columns Name: char_2\n",
      "************\n",
      "type 1 : 0\n",
      "type 2 : 1\n",
      "type 3 : 2\n",
      "\n",
      "\n",
      "Columns Name: char_3\n",
      "************\n",
      "type 1 : 0\n",
      "type 10 : 1\n",
      "type 11 : 2\n",
      "type 12 : 3\n",
      "type 13 : 4\n",
      "type 14 : 5\n",
      "type 15 : 6\n",
      "type 16 : 7\n",
      "type 17 : 8\n",
      "type 18 : 9\n",
      "type 19 : 10\n",
      "type 2 : 11\n",
      "type 20 : 12\n",
      "type 21 : 13\n",
      "type 22 : 14\n",
      "type 23 : 15\n",
      "type 24 : 16\n",
      "type 25 : 17\n",
      "type 26 : 18\n",
      "type 27 : 19\n",
      "type 28 : 20\n",
      "type 29 : 21\n",
      "type 3 : 22\n",
      "type 30 : 23\n",
      "type 31 : 24\n",
      "type 32 : 25\n",
      "type 33 : 26\n",
      "type 34 : 27\n",
      "type 35 : 28\n",
      "type 36 : 29\n",
      "type 37 : 30\n",
      "type 38 : 31\n",
      "type 39 : 32\n",
      "type 4 : 33\n",
      "type 40 : 34\n",
      "type 41 : 35\n",
      "type 42 : 36\n",
      "type 44 : 37\n",
      "type 5 : 38\n",
      "type 6 : 39\n",
      "type 7 : 40\n",
      "type 8 : 41\n",
      "type 9 : 42\n",
      "\n",
      "\n",
      "Columns Name: char_4\n",
      "************\n",
      "type 1 : 0\n",
      "type 10 : 1\n",
      "type 11 : 2\n",
      "type 12 : 3\n",
      "type 13 : 4\n",
      "type 14 : 5\n",
      "type 15 : 6\n",
      "type 16 : 7\n",
      "type 17 : 8\n",
      "type 18 : 9\n",
      "type 19 : 10\n",
      "type 2 : 11\n",
      "type 20 : 12\n",
      "type 21 : 13\n",
      "type 22 : 14\n",
      "type 23 : 15\n",
      "type 24 : 16\n",
      "type 25 : 17\n",
      "type 3 : 18\n",
      "type 4 : 19\n",
      "type 5 : 20\n",
      "type 6 : 21\n",
      "type 7 : 22\n",
      "type 8 : 23\n",
      "type 9 : 24\n",
      "\n",
      "\n",
      "Columns Name: char_5\n",
      "************\n",
      "type 1 : 0\n",
      "type 2 : 1\n",
      "type 3 : 2\n",
      "type 4 : 3\n",
      "type 5 : 4\n",
      "type 6 : 5\n",
      "type 7 : 6\n",
      "type 8 : 7\n",
      "type 9 : 8\n",
      "\n",
      "\n",
      "Columns Name: char_6\n",
      "************\n",
      "type 1 : 0\n",
      "type 2 : 1\n",
      "type 3 : 2\n",
      "type 4 : 3\n",
      "type 5 : 4\n",
      "type 6 : 5\n",
      "type 7 : 6\n",
      "\n",
      "\n",
      "Columns Name: char_7\n",
      "************\n",
      "type 1 : 0\n",
      "type 10 : 1\n",
      "type 11 : 2\n",
      "type 12 : 3\n",
      "type 13 : 4\n",
      "type 14 : 5\n",
      "type 15 : 6\n",
      "type 16 : 7\n",
      "type 17 : 8\n",
      "type 18 : 9\n",
      "type 19 : 10\n",
      "type 2 : 11\n",
      "type 20 : 12\n",
      "type 21 : 13\n",
      "type 22 : 14\n",
      "type 23 : 15\n",
      "type 24 : 16\n",
      "type 25 : 17\n",
      "type 3 : 18\n",
      "type 4 : 19\n",
      "type 5 : 20\n",
      "type 6 : 21\n",
      "type 7 : 22\n",
      "type 8 : 23\n",
      "type 9 : 24\n",
      "\n",
      "\n",
      "Columns Name: char_8\n",
      "************\n",
      "type 1 : 0\n",
      "type 2 : 1\n",
      "type 3 : 2\n",
      "type 4 : 3\n",
      "type 5 : 4\n",
      "type 6 : 5\n",
      "type 7 : 6\n",
      "type 8 : 7\n",
      "\n",
      "\n",
      "Columns Name: char_9\n",
      "************\n",
      "type 1 : 0\n",
      "type 2 : 1\n",
      "type 3 : 2\n",
      "type 4 : 3\n",
      "type 5 : 4\n",
      "type 6 : 5\n",
      "type 7 : 6\n",
      "type 8 : 7\n",
      "type 9 : 8\n"
     ]
    }
   ],
   "source": [
    "#Vamos a codificar las variables categoricas\n",
    "from sklearn.preprocessing import LabelEncoder\n",
    "encoder = LabelEncoder()\n",
    "\n",
    "for col in df.select_dtypes(\"object\"):\n",
    "    print('\\n')\n",
    "    print('Columns Name: %s' %col)\n",
    "    print('************')\n",
    "    df[col] = df[[col]].apply(encoder.fit_transform)\n",
    "    for i in range(len(encoder.classes_)):\n",
    "        print(encoder.classes_[i],':', i)"
   ]
  },
  {
   "cell_type": "code",
   "execution_count": 17,
   "id": "c7e0dfce",
   "metadata": {},
   "outputs": [],
   "source": [
    "for columna in df.select_dtypes(\"object\"):\n",
    "    print(\"\\nLa variable y sus categorias:\\n\", df[columna].value_counts() )"
   ]
  },
  {
   "cell_type": "code",
   "execution_count": 18,
   "id": "91ea3ed9",
   "metadata": {},
   "outputs": [
    {
     "name": "stdout",
     "output_type": "stream",
     "text": [
      "\n",
      "Las columnas de la matriz\n",
      "\n"
     ]
    },
    {
     "data": {
      "text/plain": [
       "Index(['people_id', 'activity_id', 'activity_category', 'activity_type',\n",
       "       'outcome', 'char_1', 'group_1', 'char_2', 'char_3', 'char_4', 'char_5',\n",
       "       'char_6', 'char_7', 'char_8', 'char_9', 'char_10', 'char_11', 'char_12',\n",
       "       'char_13', 'char_14', 'char_15', 'char_16', 'char_17', 'char_18',\n",
       "       'char_19', 'char_20', 'char_21', 'char_22', 'char_23', 'char_24',\n",
       "       'char_25', 'char_26', 'char_27', 'char_28', 'char_29', 'char_30',\n",
       "       'char_31', 'char_32', 'char_33', 'char_34', 'char_35', 'char_36',\n",
       "       'char_37', 'char_38', 'Year', 'Month', 'Quarter', 'Week', 'WeekDay',\n",
       "       'Day'],\n",
       "      dtype='object')"
      ]
     },
     "execution_count": 18,
     "metadata": {},
     "output_type": "execute_result"
    }
   ],
   "source": [
    "print(\"\\nLas columnas de la matriz\\n\")\n",
    "df.columns"
   ]
  },
  {
   "cell_type": "code",
   "execution_count": 19,
   "id": "f4d2f4e5",
   "metadata": {},
   "outputs": [
    {
     "name": "stdout",
     "output_type": "stream",
     "text": [
      "\n",
      "Pero se van separar en una matriz x y un vector y\n",
      "\n",
      "\n",
      "Tamaño de la matriz sin la columna date\n",
      " (2197291, 49)\n",
      "\n",
      "Estas con las columnas de X\n",
      " Index(['people_id', 'activity_id', 'activity_category', 'activity_type',\n",
      "       'char_1', 'group_1', 'char_2', 'char_3', 'char_4', 'char_5', 'char_6',\n",
      "       'char_7', 'char_8', 'char_9', 'char_10', 'char_11', 'char_12',\n",
      "       'char_13', 'char_14', 'char_15', 'char_16', 'char_17', 'char_18',\n",
      "       'char_19', 'char_20', 'char_21', 'char_22', 'char_23', 'char_24',\n",
      "       'char_25', 'char_26', 'char_27', 'char_28', 'char_29', 'char_30',\n",
      "       'char_31', 'char_32', 'char_33', 'char_34', 'char_35', 'char_36',\n",
      "       'char_37', 'char_38', 'Year', 'Month', 'Quarter', 'Week', 'WeekDay',\n",
      "       'Day'],\n",
      "      dtype='object')\n",
      "\n",
      "Tamaño del vector a predecir\n",
      " (2197291, 1)\n",
      "\n",
      "Estas con las columnas de y\n",
      " Index(['outcome'], dtype='object')\n"
     ]
    }
   ],
   "source": [
    "#Separamos la matriz en variables para entrenas y el vecotor a predecir\n",
    "X = df.loc[:, ['people_id', 'activity_id', 'activity_category', 'activity_type',\n",
    "       'char_1', 'group_1', 'char_2', 'char_3', 'char_4', 'char_5',\n",
    "       'char_6', 'char_7', 'char_8', 'char_9', 'char_10', 'char_11', 'char_12',\n",
    "       'char_13', 'char_14', 'char_15', 'char_16', 'char_17', 'char_18',\n",
    "       'char_19', 'char_20', 'char_21', 'char_22', 'char_23', 'char_24',\n",
    "       'char_25', 'char_26', 'char_27', 'char_28', 'char_29', 'char_30',\n",
    "       'char_31', 'char_32', 'char_33', 'char_34', 'char_35', 'char_36',\n",
    "       'char_37', 'char_38', 'Year', 'Month', 'Quarter', 'Week', 'WeekDay','Day']] \n",
    "y = df.loc[:, [\"outcome\"]]\n",
    "print(\"\\nPero se van separar en una matriz x y un vector y\\n\") \n",
    "print(\"\\nTamaño de la matriz sin la columna date\\n\",  X.shape )\n",
    "print(\"\\nEstas con las columnas de X\\n\", X.columns)\n",
    "print(\"\\nTamaño del vector a predecir\\n\",  y.shape )\n",
    "print(\"\\nEstas con las columnas de y\\n\", y.columns)"
   ]
  },
  {
   "cell_type": "code",
   "execution_count": 21,
   "id": "e53cbbdd",
   "metadata": {},
   "outputs": [
    {
     "name": "stdout",
     "output_type": "stream",
     "text": [
      "\n",
      "x_train:\n",
      " (1647968, 49)\n",
      "\n",
      "x_test:\n",
      " (549323, 49)\n",
      "\n",
      "y_train:\n",
      " (1647968, 1)\n",
      "\n",
      "y_test:\n",
      " (549323, 1)\n"
     ]
    }
   ],
   "source": [
    "#Separar los datos de entrenamiento y pruebas.\n",
    "from sklearn.model_selection import train_test_split\n",
    "X_train, X_test, y_train, y_test = train_test_split(X, y, random_state=0)\n",
    "print(\"\\nx_train:\\n\",X_train.shape)\n",
    "print(\"\\nx_test:\\n\",X_test.shape)\n",
    "print(\"\\ny_train:\\n\",y_train.shape)\n",
    "print(\"\\ny_test:\\n\",y_test.shape)"
   ]
  },
  {
   "cell_type": "code",
   "execution_count": 22,
   "id": "8287c2de",
   "metadata": {},
   "outputs": [
    {
     "name": "stderr",
     "output_type": "stream",
     "text": [
      "C:\\Users\\Windows 10\\AppData\\Local\\Programs\\Python\\Python39\\lib\\site-packages\\sklearn\\utils\\validation.py:985: DataConversionWarning: A column-vector y was passed when a 1d array was expected. Please change the shape of y to (n_samples, ), for example using ravel().\n",
      "  y = column_or_1d(y, warn=True)\n",
      "C:\\Users\\Windows 10\\AppData\\Local\\Programs\\Python\\Python39\\lib\\site-packages\\sklearn\\linear_model\\_logistic.py:814: ConvergenceWarning: lbfgs failed to converge (status=1):\n",
      "STOP: TOTAL NO. of ITERATIONS REACHED LIMIT.\n",
      "\n",
      "Increase the number of iterations (max_iter) or scale the data as shown in:\n",
      "    https://scikit-learn.org/stable/modules/preprocessing.html\n",
      "Please also refer to the documentation for alternative solver options:\n",
      "    https://scikit-learn.org/stable/modules/linear_model.html#logistic-regression\n",
      "  n_iter_i = _check_optimize_result(\n"
     ]
    },
    {
     "name": "stdout",
     "output_type": "stream",
     "text": [
      "Porcentaje de acierto entrenamiento: 0.73\n",
      "Porcentaje de acierto pruebas: 0.73\n"
     ]
    }
   ],
   "source": [
    "#Escoejer el méodelo\n",
    "from sklearn.linear_model import LogisticRegression\n",
    "modelo = LogisticRegression().fit(X_train, y_train)\n",
    "print(\"Porcentaje de acierto entrenamiento: {:.2f}\".format(modelo.score(X_train, y_train)))\n",
    "print(\"Porcentaje de acierto pruebas: {:.2f}\".format(modelo.score(X_test, y_test)))"
   ]
  },
  {
   "cell_type": "code",
   "execution_count": 23,
   "id": "57c56b92",
   "metadata": {},
   "outputs": [
    {
     "name": "stderr",
     "output_type": "stream",
     "text": [
      "C:\\Users\\Windows 10\\AppData\\Local\\Programs\\Python\\Python39\\lib\\site-packages\\sklearn\\utils\\validation.py:985: DataConversionWarning: A column-vector y was passed when a 1d array was expected. Please change the shape of y to (n_samples, ), for example using ravel().\n",
      "  y = column_or_1d(y, warn=True)\n",
      "C:\\Users\\Windows 10\\AppData\\Local\\Programs\\Python\\Python39\\lib\\site-packages\\sklearn\\linear_model\\_logistic.py:814: ConvergenceWarning: lbfgs failed to converge (status=1):\n",
      "STOP: TOTAL NO. of ITERATIONS REACHED LIMIT.\n",
      "\n",
      "Increase the number of iterations (max_iter) or scale the data as shown in:\n",
      "    https://scikit-learn.org/stable/modules/preprocessing.html\n",
      "Please also refer to the documentation for alternative solver options:\n",
      "    https://scikit-learn.org/stable/modules/linear_model.html#logistic-regression\n",
      "  n_iter_i = _check_optimize_result(\n"
     ]
    },
    {
     "name": "stdout",
     "output_type": "stream",
     "text": [
      "Porcentaje de acierto entrenamiento: 0.73\n",
      "Porcentaje de acierto pruebas: 0.73\n"
     ]
    }
   ],
   "source": [
    "modelo = LogisticRegression(C=100).fit(X_train, y_train)\n",
    "print(\"Porcentaje de acierto entrenamiento: {:.2f}\".format(modelo.score(X_train, y_train)))\n",
    "print(\"Porcentaje de acierto pruebas: {:.2f}\".format(modelo.score(X_test, y_test)))"
   ]
  },
  {
   "cell_type": "code",
   "execution_count": 24,
   "id": "eb9ea151",
   "metadata": {},
   "outputs": [
    {
     "name": "stderr",
     "output_type": "stream",
     "text": [
      "C:\\Users\\Windows 10\\AppData\\Local\\Programs\\Python\\Python39\\lib\\site-packages\\sklearn\\utils\\validation.py:985: DataConversionWarning: A column-vector y was passed when a 1d array was expected. Please change the shape of y to (n_samples, ), for example using ravel().\n",
      "  y = column_or_1d(y, warn=True)\n",
      "C:\\Users\\Windows 10\\AppData\\Local\\Programs\\Python\\Python39\\lib\\site-packages\\sklearn\\linear_model\\_logistic.py:814: ConvergenceWarning: lbfgs failed to converge (status=1):\n",
      "STOP: TOTAL NO. of ITERATIONS REACHED LIMIT.\n",
      "\n",
      "Increase the number of iterations (max_iter) or scale the data as shown in:\n",
      "    https://scikit-learn.org/stable/modules/preprocessing.html\n",
      "Please also refer to the documentation for alternative solver options:\n",
      "    https://scikit-learn.org/stable/modules/linear_model.html#logistic-regression\n",
      "  n_iter_i = _check_optimize_result(\n"
     ]
    },
    {
     "name": "stdout",
     "output_type": "stream",
     "text": [
      "Porcentaje de acierto entrenamiento: 0.73\n",
      "Porcentaje de acierto pruebas: 0.73\n"
     ]
    }
   ],
   "source": [
    "modelo = LogisticRegression(C=0.01).fit(X_train, y_train)\n",
    "print(\"Porcentaje de acierto entrenamiento: {:.2f}\".format(modelo.score(X_train, y_train)))\n",
    "print(\"Porcentaje de acierto pruebas: {:.2f}\".format(modelo.score(X_test, y_test)))"
   ]
  },
  {
   "cell_type": "code",
   "execution_count": 25,
   "id": "325ebd24",
   "metadata": {},
   "outputs": [],
   "source": [
    "df.to_csv(\"LogRegScikit.csv\")"
   ]
  }
 ],
 "metadata": {
  "kernelspec": {
   "display_name": "Python 3 (ipykernel)",
   "language": "python",
   "name": "python3"
  },
  "language_info": {
   "codemirror_mode": {
    "name": "ipython",
    "version": 3
   },
   "file_extension": ".py",
   "mimetype": "text/x-python",
   "name": "python",
   "nbconvert_exporter": "python",
   "pygments_lexer": "ipython3",
   "version": "3.9.7"
  }
 },
 "nbformat": 4,
 "nbformat_minor": 5
}
